{
 "cells": [
  {
   "cell_type": "code",
   "execution_count": 1,
   "metadata": {},
   "outputs": [],
   "source": [
    "# Introduction to Python Programming: Functions and Scope of Variables 😀\n",
    "\n",
    "#  KEYWORDS 😎\n",
    "#------------\n",
    "# Variable: A value that can change <----"
   ]
  },
  {
   "cell_type": "code",
   "execution_count": 4,
   "metadata": {},
   "outputs": [
    {
     "name": "stdout",
     "output_type": "stream",
     "text": [
      "Value of im_a_variable=  0\n",
      "Value of im_a_variable=  1\n",
      "Value of im_a_variable=  Hello World\n"
     ]
    }
   ],
   "source": [
    "im_a_variable=0 #initialising a varible (in python this is the same syntax as \"editing\" the variable, since data types in Python are MUTABLE-can be changed)\n",
    "print(\"Value of im_a_variable= \",im_a_variable)\n",
    "\n",
    "\n",
    "im_a_variable=1 #changing the variable value\n",
    "print(\"Value of im_a_variable= \",im_a_variable)\n",
    "\n",
    "\n",
    "\n",
    "im_a_variable=\"Hello World\" #changing the variable type( allowed in Python)\n",
    "print(\"Value of im_a_variable= \",im_a_variable)\n",
    "\n"
   ]
  },
  {
   "cell_type": "code",
   "execution_count": null,
   "metadata": {},
   "outputs": [],
   "source": [
    "#  KEYWORDS 😎\n",
    "#------------\n",
    "# Variable: A value that can change \n",
    "\n",
    "# Scope: Part of a program where a variable is accessible (LOCATION) <-----*NEW*\n",
    "# Lifetime: The duration for which the variable exists (TIME) <-----*NEW*\n",
    "\n",
    "# Global Variable: accessible throughout the file  <-----*NEW*\n",
    "# Local Variable: accessible inside the function its defined in  <-----*NEW*"
   ]
  },
  {
   "cell_type": "code",
   "execution_count": 9,
   "metadata": {},
   "outputs": [
    {
     "name": "stdout",
     "output_type": "stream",
     "text": [
      "Value of c: 7\n",
      "Value of d: 3\n",
      "Value of a: 0\n",
      "Value of b: 1\n"
     ]
    },
    {
     "ename": "NameError",
     "evalue": "name 'c' is not defined",
     "output_type": "error",
     "traceback": [
      "\u001b[1;31m---------------------------------------------------------------------------\u001b[0m",
      "\u001b[1;31mNameError\u001b[0m                                 Traceback (most recent call last)",
      "\u001b[1;32m<ipython-input-9-e2b523980342>\u001b[0m in \u001b[0;36m<module>\u001b[1;34m\u001b[0m\n\u001b[0;32m     20\u001b[0m \u001b[1;33m\u001b[0m\u001b[0m\n\u001b[0;32m     21\u001b[0m \u001b[1;31m# c and d don't exist anymore -- these statements will give us name errors!\u001b[0m\u001b[1;33m\u001b[0m\u001b[1;33m\u001b[0m\u001b[1;33m\u001b[0m\u001b[0m\n\u001b[1;32m---> 22\u001b[1;33m \u001b[0mprint\u001b[0m\u001b[1;33m(\u001b[0m\u001b[1;34m\"Value of c:\"\u001b[0m\u001b[1;33m,\u001b[0m\u001b[0mc\u001b[0m\u001b[1;33m)\u001b[0m\u001b[1;33m\u001b[0m\u001b[1;33m\u001b[0m\u001b[0m\n\u001b[0m\u001b[0;32m     23\u001b[0m \u001b[0mprint\u001b[0m\u001b[1;33m(\u001b[0m\u001b[1;34m\"Value of d:\"\u001b[0m\u001b[1;33m,\u001b[0m\u001b[0md\u001b[0m\u001b[1;33m)\u001b[0m\u001b[1;33m\u001b[0m\u001b[1;33m\u001b[0m\u001b[0m\n",
      "\u001b[1;31mNameError\u001b[0m: name 'c' is not defined"
     ]
    }
   ],
   "source": [
    "# This is a global variable\n",
    "a = 0\n",
    "\n",
    "if a == 0:\n",
    "    # This is still a global variable\n",
    "    b = 1\n",
    "\n",
    "def my_function(c):\n",
    "    # this is a local variable\n",
    "    d = 3\n",
    "    print(\"Value of c:\",c)\n",
    "    print(\"Value of d:\",d)\n",
    "\n",
    "# Now we call the function, passing the value 7 as the first and only parameter\n",
    "my_function(7)\n",
    "\n",
    "# a and b still exist\n",
    "print(\"Value of a:\",a)\n",
    "print(\"Value of b:\",b)\n",
    "\n",
    "# c and d don't exist anymore -- these statements will give us name errors!\n",
    "print(\"Value of c:\",c)\n",
    "print(\"Value of d:\",d)"
   ]
  },
  {
   "cell_type": "code",
   "execution_count": 11,
   "metadata": {},
   "outputs": [
    {
     "name": "stdout",
     "output_type": "stream",
     "text": [
      "3\n"
     ]
    }
   ],
   "source": [
    "# Accessing global variable from function\n",
    "\n",
    "a = 0\n",
    "\n",
    "def my_function():\n",
    "    print(\"Value of a:\",a)\n",
    "\n",
    "my_function()"
   ]
  },
  {
   "cell_type": "code",
   "execution_count": 14,
   "metadata": {},
   "outputs": [
    {
     "name": "stdout",
     "output_type": "stream",
     "text": [
      "Value of a: 3\n",
      "Value of a: 0\n"
     ]
    }
   ],
   "source": [
    "# Two different values of \"a\"??? 😕\n",
    "\n",
    "a = 0\n",
    "\n",
    "def my_function():\n",
    "    a = 3 #doesnt modify global variable, it creates a new local variable\n",
    "    print(\"Value of a:\",a)\n",
    "\n",
    "my_function()\n",
    "\n",
    "print(\"Value of a:\",a)\n"
   ]
  },
  {
   "cell_type": "code",
   "execution_count": 16,
   "metadata": {},
   "outputs": [
    {
     "name": "stdout",
     "output_type": "stream",
     "text": [
      "Value of a: 3\n",
      "Value of a: 3\n"
     ]
    }
   ],
   "source": [
    "#Modify a global varaible from inside a function\n",
    "\n",
    "a = 0\n",
    "\n",
    "def my_function():\n",
    "    global a # modify global variable\n",
    "    a = 3\n",
    "    print(\"Value of a:\",a)\n",
    "\n",
    "my_function()\n",
    "\n",
    "print(\"Value of a:\",a)\n"
   ]
  },
  {
   "cell_type": "code",
   "execution_count": 17,
   "metadata": {},
   "outputs": [
    {
     "name": "stdout",
     "output_type": "stream",
     "text": [
      "3\n"
     ]
    }
   ],
   "source": [
    "#Excercise (Possibly??) 🤔 \n",
    "\n",
    "def my_function(a):\n",
    "    b = a - 2\n",
    "    return b\n",
    "\n",
    "c = 3\n",
    "\n",
    "if c > 2:\n",
    "    d = my_function(5)\n",
    "    print(d)\n",
    "\n",
    "#Q1: Whats the scope of the variables?\n",
    "#Q2: What about when c=0?\n"
   ]
  },
  {
   "cell_type": "code",
   "execution_count": null,
   "metadata": {},
   "outputs": [],
   "source": [
    "#Thank You! Any Questions?"
   ]
  }
 ],
 "metadata": {
  "kernelspec": {
   "display_name": "Python 3",
   "language": "python",
   "name": "python3"
  },
  "language_info": {
   "codemirror_mode": {
    "name": "ipython",
    "version": 3
   },
   "file_extension": ".py",
   "mimetype": "text/x-python",
   "name": "python",
   "nbconvert_exporter": "python",
   "pygments_lexer": "ipython3",
   "version": "3.8.5"
  }
 },
 "nbformat": 4,
 "nbformat_minor": 2
}
